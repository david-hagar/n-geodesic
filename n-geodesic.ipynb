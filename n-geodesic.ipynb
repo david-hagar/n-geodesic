{
 "cells": [
  {
   "cell_type": "code",
   "execution_count": 51,
   "metadata": {},
   "outputs": [
    {
     "name": "stdout",
     "output_type": "stream",
     "text": [
      "b'Hello, TensorFlow!'\n"
     ]
    }
   ],
   "source": [
    "   \n",
    "import math\n",
    "import numpy as np\n",
    "import matplotlib.pyplot as plt\n",
    "import tensorflow as tf\n",
    "#from tensorflow.python.framework import ops from cnn_utils import *\n",
    "\n",
    "from math import pi\n",
    "import itertools\n",
    "import time\n",
    "\n",
    "%matplotlib inline\n",
    "\n",
    "with tf.Session() as sess:\n",
    "    hello = tf.constant('Hello, TensorFlow!')\n",
    "    print(sess.run(hello))\n"
   ]
  },
  {
   "cell_type": "code",
   "execution_count": 69,
   "metadata": {
    "collapsed": true
   },
   "outputs": [],
   "source": [
    "class Vertex:\n",
    "    \"\"\"a polar coordinate vertex of unit length\"\"\"\n",
    "    def __init__(self, index):\n",
    "        self.index = index\n",
    "        self.theta = tf.get_variable(\"theta\" + str(index), [1], initializer=tf.constant_initializer(np.random.random_sample() * pi))\n",
    "        self.phi = tf.get_variable(\"phi\" + str(index), [1], initializer=tf.constant_initializer(np.random.random_sample() * 2 * pi))\n",
    "        sin_theta = tf.sin(self.theta)\n",
    "        self.x = tf.multiply(sin_theta, tf.cos(self.phi) , name='x' + str(self.index))\n",
    "        self.y = tf.multiply(sin_theta, tf.sin(self.phi) , name='y' + str(self.index))\n",
    "        self.z = tf.cos(self.theta, name='z' + str(self.index))\n",
    "        self.xyz = tf.concat([self.x, self.y, self.z], axis=0)\n",
    "    \n",
    "    def distSquared( vertex1, vertex2 ):\n",
    "        \n",
    "        return \n",
    "\n",
    "\n",
    "def make_vertextes( n_vertexes ):\n",
    "    print('make_vertextes')\n",
    "    vertexes = []\n",
    "    for i in range(n_vertexes):\n",
    "        vertexes.append( Vertex(i) )\n",
    "    return vertexes\n",
    "\n",
    "def make_pairs( vertexes ):\n",
    "    print('make Pairs Inverse Distance')\n",
    "    list = []\n",
    "    for pair in itertools.combinations(vertexes, 2):\n",
    "        list.append( 1 / tf.norm(pair[0].xyz-pair[1].xyz))\n",
    "    return tf.add_n(list)    \n",
    "\n"
   ]
  },
  {
   "cell_type": "code",
   "execution_count": 102,
   "metadata": {},
   "outputs": [],
   "source": [
    "import matplotlib.pyplot as plt\n",
    "from mpl_toolkits.mplot3d import Axes3D\n",
    "from scipy.spatial import ConvexHull\n",
    "from sklearn import preprocessing\n",
    "\n",
    "from pythreejs import *\n",
    "import numpy as np\n",
    "from IPython.display import display\n",
    "\n",
    "def make_face_normals(pos,simplices):\n",
    "    print(pos)\n",
    "    print(simplices)\n",
    "    face_normals = np.zeros((simplices.shape[0],3))\n",
    "    for i in range(simplices.shape[0]):\n",
    "        v = face_normals[i]\n",
    "        for vertex_index in simplices[i]:\n",
    "            #print(vertex_index)\n",
    "            v += pos[vertex_index]\n",
    "            \n",
    "    face_normals = preprocessing.normalize(face_normals, norm='l2')   \n",
    "    print(face_normals) \n",
    "    \n",
    "    tuples=[]\n",
    "    for i in range(face_normals.shape[0]):\n",
    "        tuples.append((face_normals[i],i))\n",
    "    return tuples    \n",
    " \n",
    "def makeMeshes(pos):\n",
    "    hull = ConvexHull(pos)\n",
    "    \n",
    "    # https://github.com/jovyan/pythreejs\n",
    "    cubeGeometry = PlainGeometry(vertices=pos, faces=hull.simplices)   \n",
    "    # , faceNormals=make_face_normals(pos,hull.simplices)\n",
    "    \n",
    "    myobjectCube = Mesh(geometry=cubeGeometry, material = LambertMaterial(color='#aaaaaa', opacity=0.75))\n",
    "    cCube = PerspectiveCamera(position=[3, 3, 3], fov=25, aspect=1.0,\n",
    "                          children=[DirectionalLight(color='#555555', position=[30, 30, 30], intensity=1.5)])\n",
    "    sceneCube = Scene(children=[myobjectCube, AmbientLight(color='#ffffff')])\n",
    "\n",
    "    renderer = Renderer(camera=cCube, background='black', background_opacity=1,\n",
    "                            scene = sceneCube, controls=[OrbitControls(controlling=cCube)], width='800',height='800')\n",
    "   \n",
    "    return renderer"
   ]
  },
  {
   "cell_type": "code",
   "execution_count": 105,
   "metadata": {},
   "outputs": [
    {
     "name": "stdout",
     "output_type": "stream",
     "text": [
      "make_vertextes\n",
      "make Pairs Inverse Distance\n",
      "make optimizer\n",
      "start session\n",
      "0 71.5051 learning_rate = 0.01 multiplier = 1.05\n",
      "10 63.7297 learning_rate = 0.003122157424869163 multiplier = 1.025\n",
      "20 62.4422 learning_rate = 0.003996625464122913 multiplier = 1.025\n",
      "30 61.5253 learning_rate = 0.00511601848556533 multiplier = 1.025\n",
      "40 60.8054 learning_rate = 0.00654893619119503 multiplier = 1.025\n",
      "50 60.2191 learning_rate = 0.008383191999276915 multiplier = 1.025\n",
      "60 59.7633 learning_rate = 0.010731194509304931 multiplier = 1.025\n",
      "70 59.4539 learning_rate = 0.013736836232126048 multiplier = 1.025\n",
      "80 59.2777 learning_rate = 0.017584311746901067 multiplier = 1.025\n",
      "90 59.1834 learning_rate = 0.022509405687538498 multiplier = 1.025\n",
      "100 59.1165 learning_rate = 0.028813942319663596 multiplier = 1.025\n",
      "110 59.046 learning_rate = 0.03688428222076669 multiplier = 1.025\n",
      "120 58.9684 learning_rate = 0.0472149995945799 multiplier = 1.025\n",
      "130 58.9047 learning_rate = 0.06043919123525898 multiplier = 1.025\n",
      "140 58.872 learning_rate = 0.07736727456398293 multiplier = 1.025\n",
      "150 58.8598 learning_rate = 0.09903665239595047 multiplier = 1.025\n",
      "160 58.8559 learning_rate = 0.1267752880410033 multiplier = 1.025\n",
      "170 58.8548 learning_rate = 0.16228308680732956 multiplier = 1.025\n",
      "180 58.8543 learning_rate = 0.20773607120653828 multiplier = 1.025\n",
      "190 58.8539 learning_rate = 0.2659197340235635 multiplier = 1.025\n",
      "early stop\n",
      "1.668750500679016e-05 sec\n"
     ]
    }
   ],
   "source": [
    "n_vertexes = 13\n",
    "\n",
    "start_time = time.time()\n",
    "\n",
    "tf.reset_default_graph()\n",
    "verts = make_vertextes(n_vertexes)\n",
    "potential = make_pairs(verts)\n",
    "learning_rate = 1e-2 \n",
    "multiplier = 1.05\n",
    "learning_rate_placeholder = tf.placeholder(tf.float32, [], name='learning_rate')\n",
    "print('make optimizer') \n",
    "optimizer = tf.train.GradientDescentOptimizer( learning_rate=learning_rate_placeholder ).minimize(potential)\n",
    "\n",
    "#print([v.xyz for v in verts])\n",
    "allPositions = tf.stack([v.xyz for v in verts])\n",
    "\n",
    "NUM_THREADS = 2\n",
    " \n",
    "print('start session') \n",
    "with tf.Session(config=tf.ConfigProto( intra_op_parallelism_threads=NUM_THREADS)) as sess:\n",
    "    sess.run(tf.global_variables_initializer())\n",
    "    last_p = 0\n",
    "    for i in range(750):\n",
    "        if(i % 1 == 0):\n",
    "            _ , p = sess.run([optimizer, potential], feed_dict={learning_rate_placeholder: learning_rate} )\n",
    "            if(i % 10 == 0):\n",
    "                print( str(i) + ' ' + str(p) + ' learning_rate = ' + \n",
    "                      str( learning_rate) + ' multiplier = ' + str(multiplier) )\n",
    "            if( abs(p - last_p) < 1e-6):\n",
    "                print('early stop')\n",
    "                break\n",
    "            if( p < last_p ):\n",
    "                learning_rate *= multiplier\n",
    "            else:\n",
    "                learning_rate /= 4\n",
    "                multiplier = 1 + (multiplier-1)/2\n",
    "            last_p = p;\n",
    "        else:\n",
    "            sess.run( optimizer, feed_dict={learning_rate_placeholder: learning_rate} )  \n",
    "    \n",
    "    elapsed_time = time.time() - start_time\n",
    "    print( str(elapsed_time / 1e6)  + ' sec')\n",
    "    \n",
    "    \n",
    "    pos = sess.run(allPositions, feed_dict={learning_rate_placeholder: learning_rate})    \n",
    "    #print(pos)\n",
    "    \n",
    "    "
   ]
  },
  {
   "cell_type": "code",
   "execution_count": 106,
   "metadata": {
    "scrolled": false
   },
   "outputs": [
    {
     "data": {
      "application/vnd.jupyter.widget-view+json": {
       "model_id": "0f72b7ccce494ec9957e7fa6d43dd341",
       "version_major": 2,
       "version_minor": 0
      },
      "text/html": [
       "<p>Failed to display Jupyter Widget of type <code>Renderer</code>.</p>\n",
       "<p>\n",
       "  If you're reading this message in Jupyter Notebook or JupyterLab, it may mean\n",
       "  that the widgets JavaScript is still loading. If this message persists, it\n",
       "  likely means that the widgets JavaScript library is either not installed or\n",
       "  not enabled. See the <a href=\"https://ipywidgets.readthedocs.io/en/stable/user_install.html\">Jupyter\n",
       "  Widgets Documentation</a> for setup instructions.\n",
       "</p>\n",
       "<p>\n",
       "  If you're reading this message in another notebook frontend (for example, a static\n",
       "  rendering on GitHub or <a href=\"https://nbviewer.jupyter.org/\">NBViewer</a>),\n",
       "  it may mean that your frontend doesn't currently support widgets.\n",
       "</p>\n"
      ],
      "text/plain": [
       "Renderer(background_opacity=1.0, camera=PerspectiveCamera(aspect=1.0, children=[DirectionalLight(color='#555555', intensity=1.5, position=[30.0, 30.0, 30.0], scale=[1.0, 1.0, 1.0], up=[0.0, 1.0, 0.0])], fov=25.0, position=[3.0, 3.0, 3.0], scale=[1.0, 1.0, 1.0], up=[0.0, 1.0, 0.0]), controls=[OrbitControls(controlling=PerspectiveCamera(aspect=1.0, children=[DirectionalLight(color='#555555', intensity=1.5, position=[30.0, 30.0, 30.0], scale=[1.0, 1.0, 1.0], up=[0.0, 1.0, 0.0])], fov=25.0, position=[3.0, 3.0, 3.0], scale=[1.0, 1.0, 1.0], up=[0.0, 1.0, 0.0]), target=[0.0, 0.0, 0.0])], effect=None, height='800', scene=Scene(children=[Mesh(geometry=PlainGeometry(faces=array([[ 7,  4,  8],\n",
       "       [ 3,  4,  8],\n",
       "       [12,  6,  9],\n",
       "       [12,  6,  2],\n",
       "       [11,  6,  2],\n",
       "       [11,  3,  8],\n",
       "       [11,  3,  2],\n",
       "       [ 1,  7,  4],\n",
       "       [ 1, 12,  9],\n",
       "       [ 0,  6,  9],\n",
       "       [ 0,  1,  9],\n",
       "       [ 0,  1,  7],\n",
       "       [10,  3,  2],\n",
       "       [10, 12,  2],\n",
       "       [10,  3,  4],\n",
       "       [10,  1,  4],\n",
       "       [10,  1, 12],\n",
       "       [ 5, 11,  6],\n",
       "       [ 5,  0,  6],\n",
       "       [ 5, 11,  8],\n",
       "       [ 5,  7,  8],\n",
       "       [ 5,  0,  7]], dtype=uint32), vertices=array([[ 0.5053882 ,  0.23298261,  0.83084404],\n",
       "       [ 0.75141025, -0.64609212,  0.13396843],\n",
       "       [-0.21058516,  0.42062876, -0.88245416],\n",
       "       [-0.7658456 , -0.33537287, -0.54863971],\n",
       "       [-0.24479751, -0.96796864,  0.05577525],\n",
       "       [-0.33871365,  0.60126299,  0.72370982],\n",
       "       [ 0.19084619,  0.97828996, -0.08078659],\n",
       "       [-0.0201169 , -0.51841116,  0.85489482],\n",
       "       [-0.86743712, -0.21727516,  0.44759843],\n",
       "       [ 0.93440074,  0.34763807,  0.07773698],\n",
       "       [ 0.17584358, -0.64785588, -0.74118942],\n",
       "       [-0.77847177,  0.61358052, -0.13228986],\n",
       "       [ 0.65798157,  0.13607584, -0.7406373 ]], dtype=float32)), material=LambertMaterial(color='#aaaaaa', envMap=None, lightMap=None, map=None, opacity=0.75, specularMap=None), position=[0.0, 0.0, 0.0], scale=[1.0, 1.0, 1.0], up=[0.0, 1.0, 0.0]), AmbientLight(color='#ffffff', position=[0.0, 0.0, 0.0], scale=[1.0, 1.0, 1.0], up=[0.0, 1.0, 0.0])], position=[0.0, 0.0, 0.0], scale=[1.0, 1.0, 1.0], up=[0.0, 1.0, 0.0]), width='800')"
      ]
     },
     "metadata": {},
     "output_type": "display_data"
    }
   ],
   "source": [
    "\n",
    "\n",
    "#myobjectCube.material.wireframe = True\n",
    "\n",
    "display(makeMeshes(pos))"
   ]
  },
  {
   "cell_type": "markdown",
   "metadata": {},
   "source": [
    "Todo:\n",
    "1. fix face normals, https://github.com/mrdoob/three.js/blob/dev/src/core/Geometry.js computeFaceNormals\n",
    "cubeGeometry.faceNormals\n",
    "\n",
    "2. edge stats bar chart\n",
    "4. seperate setup from converging loop so can run multiple if doesn't converge\n",
    "\n",
    "\n",
    "## 12 Vertexes\n",
    "![exampleOutput.png](attachment:exampleOutput.png)\n",
    "\n",
    "\n",
    "## 32 Vertexes\n",
    "![output%20for%2032%20vertexes.png](attachment:output%20for%2032%20vertexes.png)\n"
   ]
  },
  {
   "cell_type": "code",
   "execution_count": 63,
   "metadata": {},
   "outputs": [
    {
     "data": {
      "text/plain": [
       "numpy.ndarray"
      ]
     },
     "execution_count": 63,
     "metadata": {},
     "output_type": "execute_result"
    }
   ],
   "source": [
    "pos.__class__"
   ]
  },
  {
   "cell_type": "code",
   "execution_count": 91,
   "metadata": {},
   "outputs": [
    {
     "data": {
      "text/plain": [
       "tuple"
      ]
     },
     "execution_count": 91,
     "metadata": {},
     "output_type": "execute_result"
    }
   ],
   "source": [
    "cubeGeometry.faceNormals.__class__\n"
   ]
  },
  {
   "cell_type": "code",
   "execution_count": null,
   "metadata": {
    "collapsed": true
   },
   "outputs": [],
   "source": []
  }
 ],
 "metadata": {
  "kernelspec": {
   "display_name": "Python3 (Tensorflow)",
   "language": "python",
   "name": "tensorflow-env"
  },
  "language_info": {
   "codemirror_mode": {
    "name": "ipython",
    "version": 3
   },
   "file_extension": ".py",
   "mimetype": "text/x-python",
   "name": "python",
   "nbconvert_exporter": "python",
   "pygments_lexer": "ipython3",
   "version": "3.6.2"
  }
 },
 "nbformat": 4,
 "nbformat_minor": 2
}
