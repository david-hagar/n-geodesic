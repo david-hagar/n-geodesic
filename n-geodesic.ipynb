{
 "cells": [
  {
   "cell_type": "code",
   "execution_count": 1,
   "metadata": {},
   "outputs": [
    {
     "name": "stderr",
     "output_type": "stream",
     "text": [
      "/Users/hagar/apps/tensorflow/lib/python3.6/importlib/_bootstrap.py:219: RuntimeWarning: compiletime version 3.5 of module 'tensorflow.python.framework.fast_tensor_util' does not match runtime version 3.6\n",
      "  return f(*args, **kwds)\n"
     ]
    }
   ],
   "source": [
    "   \n",
    "import math\n",
    "import numpy as np\n",
    "import matplotlib.pyplot as plt\n",
    "import tensorflow as tf\n",
    "#from tensorflow.python.framework import ops from cnn_utils import *\n",
    "\n",
    "from math import pi\n",
    "import itertools\n",
    "import time\n",
    "\n",
    "%matplotlib inline\n",
    "\n",
    "#with tf.Session() as sess:\n",
    "#    hello = tf.constant('Hello, TensorFlow!')\n",
    "#    print(sess.run(hello))\n"
   ]
  },
  {
   "cell_type": "code",
   "execution_count": 2,
   "metadata": {
    "collapsed": true
   },
   "outputs": [],
   "source": [
    "\n",
    "np.random.seed(seed=123)\n",
    "\n",
    "class Vertex:\n",
    "    \"\"\"a polar coordinate vertex of unit length\"\"\"\n",
    "    def __init__(self, index):\n",
    "        self.index = index\n",
    "        if(index == 0):\n",
    "            self.theta = tf.constant([0.0], dtype=tf.float64, name = \"theta\" + str(index))\n",
    "            self.phi = tf.constant([0.0], dtype=tf.float64, name = \"phi\" + str(index))\n",
    "        else:   \n",
    "            self.theta = tf.get_variable(\"theta\" + str(index), [1] , dtype=tf.float64, \n",
    "                                     initializer=tf.constant_initializer(np.random.random_sample() * pi))\n",
    "            if(index == 1):\n",
    "                self.phi = tf.constant([0.0], dtype=tf.float64, name = \"phi\" + str(index))\n",
    "            else:\n",
    "                self.phi = tf.get_variable(\"phi\" + str(index), [1] , dtype=tf.float64,\n",
    "                                   initializer=tf.constant_initializer(np.random.random_sample() * 2 * pi))\n",
    "        #print( index )\n",
    "        #print(self.theta)\n",
    "        #print(self.phi)\n",
    "        sin_theta = tf.sin(self.theta)\n",
    "        self.x = tf.multiply(sin_theta, tf.cos(self.phi) , name='x' + str(self.index))\n",
    "        self.y = tf.multiply(sin_theta, tf.sin(self.phi) , name='y' + str(self.index))\n",
    "        self.z = tf.cos(self.theta, name='z' + str(self.index))\n",
    "        self.xyz = tf.concat([self.x, self.y, self.z], axis=0)\n",
    "\n",
    "\n",
    "def make_vertextes( n_vertexes ):\n",
    "    print('make vertextes')\n",
    "    vertexes = []\n",
    "    for i in range(n_vertexes):\n",
    "        vertexes.append( Vertex(i) )\n",
    "    return vertexes\n",
    "\n",
    "def make_pairs( vertexes ):\n",
    "    print('make pairs')\n",
    "    list = []\n",
    "    for pair in itertools.combinations(vertexes, 2):\n",
    "        list.append( 1 / tf.norm(pair[0].xyz-pair[1].xyz))\n",
    "    return tf.add_n(list)    \n",
    "\n"
   ]
  },
  {
   "cell_type": "code",
   "execution_count": 3,
   "metadata": {
    "collapsed": true
   },
   "outputs": [],
   "source": [
    "import matplotlib.pyplot as plt\n",
    "from mpl_toolkits.mplot3d import Axes3D\n",
    "from scipy.spatial import ConvexHull\n",
    "from sklearn import preprocessing\n",
    "\n",
    "from pythreejs import *\n",
    "import numpy as np\n",
    "from IPython.display import display\n",
    "\n",
    "def make_face_normals(verts,simplices):\n",
    "    print(verts)\n",
    "    print(simplices)\n",
    "    face_normals = np.zeros((simplices.shape[0],3))\n",
    "    for i in range(simplices.shape[0]):\n",
    "        v = face_normals[i]\n",
    "        for vertex_index in simplices[i]:\n",
    "            #print(vertex_index)\n",
    "            v += verts[vertex_index]\n",
    "            \n",
    "    face_normals = preprocessing.normalize(face_normals, norm='l2')   \n",
    "    print(face_normals) \n",
    "    \n",
    "    tuples=[]\n",
    "    for i in range(face_normals.shape[0]):\n",
    "        tuples.append((face_normals[i],i))\n",
    "    return tuples    \n",
    "\n",
    "\n",
    "def fix_simplex_normals(verts, simplices):\n",
    "    #print('fix_simplex_normals')\n",
    "    base = 1\n",
    "    left = 0\n",
    "    right = 2\n",
    "    for face in simplices:\n",
    "        vA = verts[ face[left] ];\n",
    "        vB = verts[ face[base] ];\n",
    "        vC = verts[ face[right] ];\n",
    "\n",
    "        cb = vC - vB\n",
    "        ab = vA - vB\n",
    "        cross = np.cross( cb, ab )\n",
    "        dot = np.dot( vA, cross)\n",
    "        if dot < 0:\n",
    "            #print( face )\n",
    "            tmp  = face[left]\n",
    "            face[left] = face[right]\n",
    "            face[right] = tmp\n",
    "            #print( dot )\n",
    "            #print( face )\n",
    "    return None\n",
    "\n",
    "def make_vert_spheres(verts):\n",
    "    spheres = []\n",
    "    for v in verts:\n",
    "        sphereGeom = SphereGeometry( radius = 0.03)\n",
    "        sphereMesh = Mesh(geometry=sphereGeom, material = LambertMaterial(color='#444444',transparent=False, opacity=0.9))\n",
    "        sphereMesh.position = v.tolist()\n",
    "        spheres.append(sphereMesh)\n",
    "    return spheres    \n",
    "\n",
    "\n",
    "def makeMeshes(verts, simplices):\n",
    "    #fix_simplex_normals(verts, simplices)\n",
    "    fix_simplex_normals(verts, simplices)\n",
    "    \n",
    "    # https://github.com/jovyan/pythreejs\n",
    "    cubeGeometry = PlainGeometry(vertices=verts, faces=simplices)   \n",
    "    # , faceNormals=make_face_normals(pos,simplices)\n",
    "    \n",
    "    #,transparent=True, opacity=0.7, side='DoubleSide'\n",
    "    myobjectCube = Mesh(geometry=cubeGeometry, material = LambertMaterial(color='#888888'))\n",
    "    myobjectCube.material.wireframe = True\n",
    "    camera = PerspectiveCamera(position=[-0.5, 6, -0.5], fov=25, aspect=1.0,\n",
    "                          children=[DirectionalLight(color='#aaaaaa', position=[20, 20, 30], intensity=4)])\n",
    "    spheres = make_vert_spheres(verts)\n",
    "    sceneCube = Scene(children=[myobjectCube, AmbientLight(color='#aaaaaa', intensity=4)]+spheres)\n",
    "\n",
    "    renderer = Renderer(camera=camera, background='black', background_opacity=1,\n",
    "                            scene = sceneCube, controls=[OrbitControls(controlling=camera)], width='800',height='800')\n",
    "   \n",
    "    return renderer"
   ]
  },
  {
   "cell_type": "code",
   "execution_count": 4,
   "metadata": {},
   "outputs": [
    {
     "name": "stdout",
     "output_type": "stream",
     "text": [
      "make vertextes\n",
      "make pairs\n",
      "make optimizer\n",
      "NUM_THREADS = 4\n",
      "start session\n",
      "0 59.4669038876221521,   (9.9994053309611243e+05),  200 49.1849353053400904,   (5.7139598262949676e-03),  400 49.1657811350764007,   (8.9218341017271996e-05),  600 49.1652823629845059,   (4.3264526397024383e-06),  800 49.1652550329637847,   (2.8173887045568335e-07),  1000 49.1652531964570301,   (1.9663175976347702e-08),  1200 49.1652530674665584,   (1.3914558394390042e-09),  1400 49.1652530583270959,   (9.8729913133865921e-11),  early stop\n",
      "11.539005041122437 sec\n",
      "1590 epochs\n"
     ]
    }
   ],
   "source": [
    "import multiprocessing\n",
    "\n",
    "n_vertexes = 12 # 12 -24 28 +32 36 40 -42 46\n",
    "\n",
    "learning_rate = 6/(n_vertexes**2) \n",
    "\n",
    "start_time = time.time()\n",
    "\n",
    "tf.reset_default_graph()\n",
    "vertextes = make_vertextes(n_vertexes)\n",
    "potential = make_pairs(vertextes)\n",
    "\n",
    "multiplier = 1.02\n",
    "learning_rate_placeholder = tf.placeholder(tf.float32, [], name='learning_rate')\n",
    "print('make optimizer') \n",
    "optimizer = tf.train.GradientDescentOptimizer( learning_rate=learning_rate_placeholder ).minimize(potential)\n",
    "\n",
    "#print([v.xyz for v in vertextes])\n",
    "allPositions = tf.stack([v.xyz for v in vertextes])\n",
    "\n",
    "NUM_THREADS = max(1, int( multiprocessing.cpu_count() / 2 ))\n",
    "print('NUM_THREADS = ' + str(NUM_THREADS))\n",
    " \n",
    "print('start session') \n",
    "#config = tf.ConfigProto(intra_op_parallelism_threads=4, inter_op_parallelism_threads=4, \\\n",
    "#                        allow_soft_placement=True, device_count = {'CPU': 4})\n",
    "#config = tf.ConfigProto(intra_op_parallelism_threads=4, inter_op_parallelism_threads=4, \\\n",
    "#                        allow_soft_placement=True, device_count = {'CPU': 1})\n",
    "#session = tf.Session(config=config)\n",
    "session = tf.Session()\n",
    "\n",
    "with session as sess:\n",
    "    sess.run(tf.global_variables_initializer())\n",
    "    last_p = 1e6\n",
    "    last_was_equal = False\n",
    "    for i in range(100000):\n",
    "        if(i % 10 == 0):\n",
    "            _ , p = sess.run([optimizer, potential], feed_dict={learning_rate_placeholder: learning_rate} )\n",
    "            if(i % 200 == 0):\n",
    "                print( str(i) + ' ' + \"{0:.16f},  \".format(p)+ \" ({0:.16e}),  \".format(last_p-p), end='')\n",
    "            #if(i % 50 == 0):\n",
    "            #    print( str(i) + ' ' + \"{0:.8f}\".format(p) + ' learning_rate = ' + \n",
    "            #          str( learning_rate) + ' multiplier = ' + str(multiplier) )\n",
    "            #print( p - last_p )\n",
    "            if abs(p - last_p) < 1e-11:\n",
    "                if last_was_equal:\n",
    "                    print('early stop')\n",
    "                    break\n",
    "                else:\n",
    "                    last_was_equal = True\n",
    "            else:\n",
    "                last_was_equal = False\n",
    "            #if( p < last_p ):\n",
    "            #    learning_rate *= multiplier\n",
    "            #else:\n",
    "            #    learning_rate = max(1e-3, learning_rate/8)\n",
    "            #    multiplier = 1 + (multiplier-1)/2\n",
    "            last_p = p;\n",
    "        else:\n",
    "            sess.run( optimizer, feed_dict={learning_rate_placeholder: learning_rate} )  \n",
    "    \n",
    "    elapsed_time = time.time() - start_time\n",
    "    print( str(elapsed_time)  + ' sec')\n",
    "    print( str(i) + ' epochs' )\n",
    "    \n",
    "    verts = sess.run(allPositions, feed_dict={learning_rate_placeholder: learning_rate})    \n",
    "    #print(verts)\n",
    "    \n",
    "    "
   ]
  },
  {
   "cell_type": "code",
   "execution_count": 5,
   "metadata": {
    "scrolled": false
   },
   "outputs": [
    {
     "data": {
      "application/vnd.jupyter.widget-view+json": {
       "model_id": "889c8cdcbd3549149ec6f6fe1b6596d6",
       "version_major": 2,
       "version_minor": 0
      },
      "text/html": [
       "<p>Failed to display Jupyter Widget of type <code>Renderer</code>.</p>\n",
       "<p>\n",
       "  If you're reading this message in the Jupyter Notebook or JupyterLab Notebook, it may mean\n",
       "  that the widgets JavaScript is still loading. If this message persists, it\n",
       "  likely means that the widgets JavaScript library is either not installed or\n",
       "  not enabled. See the <a href=\"https://ipywidgets.readthedocs.io/en/stable/user_install.html\">Jupyter\n",
       "  Widgets Documentation</a> for setup instructions.\n",
       "</p>\n",
       "<p>\n",
       "  If you're reading this message in another frontend (for example, a static\n",
       "  rendering on GitHub or <a href=\"https://nbviewer.jupyter.org/\">NBViewer</a>),\n",
       "  it may mean that your frontend doesn't currently support widgets.\n",
       "</p>\n"
      ],
      "text/plain": [
       "Renderer(background_opacity=1.0, camera=PerspectiveCamera(aspect=1.0, children=[DirectionalLight(color='#aaaaaa', intensity=4.0, position=[20.0, 20.0, 30.0], scale=[1.0, 1.0, 1.0], up=[0.0, 1.0, 0.0])], fov=25.0, position=[-0.5, 6.0, -0.5], scale=[1.0, 1.0, 1.0], up=[0.0, 1.0, 0.0]), controls=[OrbitControls(controlling=PerspectiveCamera(aspect=1.0, children=[DirectionalLight(color='#aaaaaa', intensity=4.0, position=[20.0, 20.0, 30.0], scale=[1.0, 1.0, 1.0], up=[0.0, 1.0, 0.0])], fov=25.0, position=[-0.5, 6.0, -0.5], scale=[1.0, 1.0, 1.0], up=[0.0, 1.0, 0.0]), target=[0.0, 0.0, 0.0])], effect=None, height='800', scene=Scene(children=[Mesh(geometry=PlainGeometry(faces=array([[ 8,  0,  6],\n",
       "       [ 7,  9,  1],\n",
       "       [10,  0,  8],\n",
       "       [ 8, 11, 10],\n",
       "       [ 9,  6,  2],\n",
       "       [ 2,  6,  0],\n",
       "       [ 1,  9,  2],\n",
       "       [ 5,  7, 11],\n",
       "       [ 5, 11,  8],\n",
       "       [ 8,  6,  5],\n",
       "       [ 5,  6,  9],\n",
       "       [ 9,  7,  5],\n",
       "       [ 0, 10,  4],\n",
       "       [ 1,  2,  4],\n",
       "       [ 4,  2,  0],\n",
       "       [ 3, 10, 11],\n",
       "       [ 3,  7,  1],\n",
       "       [11,  7,  3],\n",
       "       [ 1,  4,  3],\n",
       "       [ 3,  4, 10]], dtype=uint32), vertices=array([[  0.00000000e+00,   0.00000000e+00,   1.00000000e+00],\n",
       "       [  8.94427836e-01,   0.00000000e+00,  -4.47212338e-01],\n",
       "       [  7.23601222e-01,   5.25740623e-01,   4.47211444e-01],\n",
       "       [  2.76398569e-01,  -8.50650787e-01,  -4.47210312e-01],\n",
       "       [  7.23611236e-01,  -5.25722146e-01,   4.47216868e-01],\n",
       "       [ -7.23610103e-01,   5.25725007e-01,  -4.47215438e-01],\n",
       "       [ -2.76401401e-01,   8.50649059e-01,   4.47211862e-01],\n",
       "       [  1.80519305e-06,  -1.63191942e-06,  -1.00000000e+00],\n",
       "       [ -8.94427538e-01,  -6.50825814e-06,   4.47212905e-01],\n",
       "       [  2.76388288e-01,   8.50651085e-01,  -4.47216094e-01],\n",
       "       [ -2.76386827e-01,  -8.50652218e-01,   4.47214901e-01],\n",
       "       [ -7.23602533e-01,  -5.25736749e-01,  -4.47213799e-01]], dtype=float32)), material=LambertMaterial(color='#888888', envMap=None, lightMap=None, map=None, specularMap=None, wireframe=True), position=[0.0, 0.0, 0.0], scale=[1.0, 1.0, 1.0], up=[0.0, 1.0, 0.0]), AmbientLight(color='#aaaaaa', position=[0.0, 0.0, 0.0], scale=[1.0, 1.0, 1.0], up=[0.0, 1.0, 0.0]), Mesh(geometry=SphereGeometry(radius=0.03), material=LambertMaterial(color='#444444', envMap=None, lightMap=None, map=None, opacity=0.9, specularMap=None), position=[0.0, 0.0, 1.0], scale=[1.0, 1.0, 1.0], up=[0.0, 1.0, 0.0]), Mesh(geometry=SphereGeometry(radius=0.03), material=LambertMaterial(color='#444444', envMap=None, lightMap=None, map=None, opacity=0.9, specularMap=None), position=[0.8944278204867999, 0.0, -0.4472123365239748], scale=[1.0, 1.0, 1.0], up=[0.0, 1.0, 0.0]), Mesh(geometry=SphereGeometry(radius=0.03), material=LambertMaterial(color='#444444', envMap=None, lightMap=None, map=None, opacity=0.9, specularMap=None), position=[0.72360120131604, 0.5257406390518083, 0.44721145099760146], scale=[1.0, 1.0, 1.0], up=[0.0, 1.0, 0.0]), Mesh(geometry=SphereGeometry(radius=0.03), material=LambertMaterial(color='#444444', envMap=None, lightMap=None, map=None, opacity=0.9, specularMap=None), position=[0.2763985642033769, -0.8506507860987373, -0.4472103239147234], scale=[1.0, 1.0, 1.0], up=[0.0, 1.0, 0.0]), Mesh(geometry=SphereGeometry(radius=0.03), material=LambertMaterial(color='#444444', envMap=None, lightMap=None, map=None, opacity=0.9, specularMap=None), position=[0.7236112626662594, -0.5257221723940686, 0.44721688026706113], scale=[1.0, 1.0, 1.0], up=[0.0, 1.0, 0.0]), Mesh(geometry=SphereGeometry(radius=0.03), material=LambertMaterial(color='#444444', envMap=None, lightMap=None, map=None, opacity=0.9, specularMap=None), position=[-0.7236100847470921, 0.5257250207533278, -0.44721543779952333], scale=[1.0, 1.0, 1.0], up=[0.0, 1.0, 0.0]), Mesh(geometry=SphereGeometry(radius=0.03), material=LambertMaterial(color='#444444', envMap=None, lightMap=None, map=None, opacity=0.9, specularMap=None), position=[-0.2764013905026455, 0.8506490611682572, 0.4472118581408218], scale=[1.0, 1.0, 1.0], up=[0.0, 1.0, 0.0]), Mesh(geometry=SphereGeometry(radius=0.03), material=LambertMaterial(color='#444444', envMap=None, lightMap=None, map=None, opacity=0.9, specularMap=None), position=[1.8051930462956876e-06, -1.631919367844655e-06, -0.999999999997039], scale=[1.0, 1.0, 1.0], up=[0.0, 1.0, 0.0]), Mesh(geometry=SphereGeometry(radius=0.03), material=LambertMaterial(color='#444444', envMap=None, lightMap=None, map=None, opacity=0.9, specularMap=None), position=[-0.8944275433604358, -6.508258266956887e-06, 0.44721289073086684], scale=[1.0, 1.0, 1.0], up=[0.0, 1.0, 0.0]), Mesh(geometry=SphereGeometry(radius=0.03), material=LambertMaterial(color='#444444', envMap=None, lightMap=None, map=None, opacity=0.9, specularMap=None), position=[0.27638828743799415, 0.8506510943849306, -0.4472160889199007], scale=[1.0, 1.0, 1.0], up=[0.0, 1.0, 0.0]), Mesh(geometry=SphereGeometry(radius=0.03), material=LambertMaterial(color='#444444', envMap=None, lightMap=None, map=None, opacity=0.9, specularMap=None), position=[-0.2763868358855206, -0.8506521924583413, 0.4472148973536184], scale=[1.0, 1.0, 1.0], up=[0.0, 1.0, 0.0]), Mesh(geometry=SphereGeometry(radius=0.03), material=LambertMaterial(color='#444444', envMap=None, lightMap=None, map=None, opacity=0.9, specularMap=None), position=[-0.7236025617780553, -0.5257367766498117, -0.44721379033534026], scale=[1.0, 1.0, 1.0], up=[0.0, 1.0, 0.0])], position=[0.0, 0.0, 0.0], scale=[1.0, 1.0, 1.0], up=[0.0, 1.0, 0.0]), width='800')"
      ]
     },
     "metadata": {},
     "output_type": "display_data"
    }
   ],
   "source": [
    "\n",
    "hull = ConvexHull(verts)\n",
    "\n",
    "display(makeMeshes(verts, hull.simplices))"
   ]
  },
  {
   "cell_type": "code",
   "execution_count": null,
   "metadata": {
    "collapsed": true
   },
   "outputs": [],
   "source": []
  },
  {
   "cell_type": "code",
   "execution_count": 6,
   "metadata": {},
   "outputs": [
    {
     "name": "stdout",
     "output_type": "stream",
     "text": [
      "[[1.0514626468395802, 30]]\n"
     ]
    }
   ],
   "source": [
    "\n",
    "\n",
    "def add_ordered(set, index1, index2):\n",
    "    if index1 < index2:\n",
    "        set.add((index1, index2))\n",
    "    else:\n",
    "        set.add((index2, index1))\n",
    "\n",
    "def get_edges(simplexes):\n",
    "    edges = set()\n",
    "    for s in simplexes:\n",
    "        add_ordered(edges, s[0], s[1])\n",
    "        add_ordered(edges, s[1], s[2])\n",
    "        add_ordered(edges, s[0], s[2])\n",
    "    return list(edges)    \n",
    "\n",
    "class EdgeGroup:\n",
    "    \"\"\"all edges that are the same distance\"\"\"\n",
    "    def __init__(self, distance):\n",
    "        self.distance = distance\n",
    "        self.count = 1\n",
    "        \n",
    "    def __str__(self):\n",
    "        return str(self.distance) + ':' + str(self.count)\n",
    "\n",
    "\n",
    "def make_surface_edge_groups(verts, simplexes, epsilon):\n",
    "    groups = []\n",
    "    edges = get_edges(simplexes)\n",
    "    for e in edges:\n",
    "        distance = np.linalg.norm(verts[e[0]] - verts[e[1]])\n",
    "        found = False\n",
    "        for g in groups:\n",
    "            if abs(g[0] - distance) < epsilon:\n",
    "                g[1]+=1\n",
    "                found=True\n",
    "                break\n",
    "        if not found:      \n",
    "            groups.append( [distance,1] ) \n",
    "                                 \n",
    "    return list(groups)\n",
    "    \n",
    "epsilon = 1e-5    \n",
    "groups = make_surface_edge_groups(verts, hull.simplices, epsilon) \n",
    "print(groups)"
   ]
  },
  {
   "cell_type": "code",
   "execution_count": 7,
   "metadata": {},
   "outputs": [
    {
     "data": {
      "image/png": "[encoded data removed]",
      "text/plain": [
       "<matplotlib.figure.Figure at 0x121999e80>"
      ]
     },
     "metadata": {},
     "output_type": "display_data"
    }
   ],
   "source": [
    "import matplotlib.pyplot as plt\n",
    "import numpy as np\n",
    "\n",
    "\n",
    "plt.rcdefaults()\n",
    "fig, ax = plt.subplots()\n",
    "\n",
    "# Example data\n",
    "people = [group[0] for group in groups]\n",
    "y_pos = np.arange(len(people))\n",
    "performance = [group[1] for group in groups]\n",
    "\n",
    "ax.barh(y_pos, performance, align='center',\n",
    "        color='darkblue', ecolor='black')\n",
    "ax.set_yticks(y_pos)\n",
    "ax.set_yticklabels(people)\n",
    "ax.invert_yaxis()  # labels read top-to-bottom\n",
    "ax.set_xlabel('Edge Count')\n",
    "ax.set_title('Edge Length')\n",
    "\n",
    "plt.show()"
   ]
  },
  {
   "cell_type": "code",
   "execution_count": null,
   "metadata": {
    "collapsed": true
   },
   "outputs": [],
   "source": []
  },
  {
   "cell_type": "markdown",
   "metadata": {},
   "source": [
    "Todo:\n",
    "1. fix face normals, https://github.com/mrdoob/three.js/blob/dev/src/core/Geometry.js computeFaceNormals\n",
    "cubeGeometry.faceNormals\n",
    "\n",
    "2. edge stats bar chart\n",
    "4. transparent faces\n",
    "5. edge color groups\n",
    "5. manual change learning rate on split run on session\n",
    "5. adaptive learning rate, exponetial average of last delta for each learning rate with N buckets randomly chosen each an increment more or less than best in the middle\n",
    "5. save and load to file and use as init\n",
    "5. graph\n",
    "    1. e f v\n",
    "    2. potential per ?\n",
    "    3. groups\n",
    "    4. periodic table of groups\n",
    "\n",
    "\n",
    "## 12 Vertexes\n",
    "![exampleOutput.png](exampleOutput.png)\n",
    "\n",
    "\n",
    "## 32 Vertexes\n",
    "![exampleOutput-32.png](exampleOutput-32.png)\n"
   ]
  },
  {
   "cell_type": "code",
   "execution_count": null,
   "metadata": {
    "collapsed": true
   },
   "outputs": [],
   "source": [
    "#cubeGeometry.faceNormals.__class__\n"
   ]
  },
  {
   "cell_type": "code",
   "execution_count": null,
   "metadata": {
    "collapsed": true
   },
   "outputs": [],
   "source": [
    "\" {0:.16e},  \".format(1e-9)"
   ]
  },
  {
   "cell_type": "code",
   "execution_count": null,
   "metadata": {
    "collapsed": true
   },
   "outputs": [],
   "source": []
  }
 ],
 "metadata": {
  "kernelspec": {
   "display_name": "Tensorflow",
   "language": "python",
   "name": "tensorflow"
  },
  "language_info": {
   "codemirror_mode": {
    "name": "ipython",
    "version": 3
   },
   "file_extension": ".py",
   "mimetype": "text/x-python",
   "name": "python",
   "nbconvert_exporter": "python",
   "pygments_lexer": "ipython3",
   "version": "3.6.3"
  }
 },
 "nbformat": 4,
 "nbformat_minor": 2
}
