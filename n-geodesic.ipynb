{
 "cells": [
  {
   "cell_type": "code",
   "execution_count": 1,
   "metadata": {},
   "outputs": [
    {
     "name": "stderr",
     "output_type": "stream",
     "text": [
      "/Users/home/code/tensorflow/lib/python3.6/importlib/_bootstrap.py:205: RuntimeWarning: compiletime version 3.5 of module 'tensorflow.python.framework.fast_tensor_util' does not match runtime version 3.6\n",
      "  return f(*args, **kwds)\n"
     ]
    },
    {
     "name": "stdout",
     "output_type": "stream",
     "text": [
      "b'Hello, TensorFlow!'\n"
     ]
    }
   ],
   "source": [
    "   \n",
    "import math\n",
    "import numpy as np\n",
    "import matplotlib.pyplot as plt\n",
    "import tensorflow as tf\n",
    "#from tensorflow.python.framework import ops from cnn_utils import *\n",
    "\n",
    "from math import pi\n",
    "import itertools\n",
    "\n",
    "%matplotlib inline\n",
    "\n",
    "with tf.Session() as sess:\n",
    "    hello = tf.constant('Hello, TensorFlow!')\n",
    "    print(sess.run(hello))\n"
   ]
  },
  {
   "cell_type": "code",
   "execution_count": null,
   "metadata": {
    "collapsed": true
   },
   "outputs": [],
   "source": [
    "\n",
    "   "
   ]
  },
  {
   "cell_type": "code",
   "execution_count": 2,
   "metadata": {
    "collapsed": true
   },
   "outputs": [],
   "source": [
    "class Vertex:\n",
    "    \"\"\"a polar coordinate vertex of unit length\"\"\"\n",
    "    def __init__(self, index):\n",
    "        self.index = index\n",
    "        self.theta = tf.get_variable(\"theta\" + str(index), [1], initializer=tf.constant_initializer(np.random.random_sample() * pi))\n",
    "        self.phi = tf.get_variable(\"phi\" + str(index), [1], initializer=tf.constant_initializer(np.random.random_sample() * 2 * pi))\n",
    "        sin_theta = tf.sin(self.theta)\n",
    "        self.x = tf.multiply(sin_theta, tf.cos(self.phi) , name='x' + str(self.index))\n",
    "        self.y = tf.multiply(sin_theta, tf.sin(self.phi) , name='y' + str(self.index))\n",
    "        self.z = tf.cos(self.theta, name='z' + str(self.index))\n",
    "        self.xyz = tf.concat([self.x, self.y, self.z], axis=0)\n",
    "    \n",
    "    def distSquared( vertex1, vertex2 ):\n",
    "        \n",
    "        return \n",
    "\n",
    "\n",
    "def make_vertextes( n_vertexes ):\n",
    "    vertexes = []\n",
    "    for i in range(n_vertexes):\n",
    "        vertexes.append( Vertex(i) )\n",
    "    return vertexes\n",
    "\n",
    "def makePairsInverseDistance( vertexes ):\n",
    "    list = []\n",
    "    for pair in itertools.combinations(vertexes, 2):\n",
    "        list.append( 1 / tf.norm(pair[0].xyz-pair[1].xyz))\n",
    "    return tf.add_n(list)    \n",
    "\n"
   ]
  },
  {
   "cell_type": "code",
   "execution_count": 66,
   "metadata": {},
   "outputs": [
    {
     "name": "stdout",
     "output_type": "stream",
     "text": [
      "0 10.5842\n",
      "10 6.50263\n",
      "20 6.47734\n",
      "30 6.47564\n",
      "40 6.47534\n",
      "50 6.47519\n",
      "60 6.47507\n",
      "70 6.47499\n",
      "80 6.47492\n",
      "90 6.47486\n",
      "100 6.47482\n",
      "110 6.47479\n",
      "120 6.47476\n",
      "130 6.47475\n",
      "140 6.47473\n",
      "150 6.47472\n",
      "160 6.47471\n",
      "170 6.47471\n",
      "180 6.4747\n",
      "190 6.4747\n",
      "200 6.4747\n",
      "210 6.4747\n",
      "220 6.4747\n",
      "230 6.47469\n",
      "240 6.47469\n",
      "250 6.47469\n",
      "260 6.47469\n",
      "270 6.47469\n",
      "280 6.47469\n",
      "290 6.47469\n",
      "300 6.47469\n",
      "310 6.47469\n",
      "320 6.47469\n",
      "330 6.47469\n",
      "340 6.47469\n",
      "350 6.47469\n",
      "360 6.47469\n",
      "370 6.47469\n",
      "380 6.47469\n",
      "390 6.47469\n",
      "400 6.47469\n",
      "410 6.47469\n",
      "420 6.47469\n",
      "430 6.47469\n",
      "440 6.47469\n",
      "450 6.47469\n",
      "460 6.47469\n",
      "470 6.47469\n",
      "480 6.47469\n",
      "490 6.47469\n",
      "[[ 0.47222146 -0.83064699 -0.29501268]\n",
      " [-0.47227982  0.83061755  0.29500201]\n",
      " [-0.7312479  -0.18229976 -0.6573    ]\n",
      " [-0.060554   -0.36446497  0.92924619]\n",
      " [ 0.79187512  0.54679567 -0.27193439]]\n"
     ]
    }
   ],
   "source": [
    "n_vertexes = 5 # 32\n",
    "\n",
    "tf.reset_default_graph()\n",
    "verts = make_vertextes(n_vertexes)\n",
    "potential = makePairsInverseDistance(verts)\n",
    "optimizer = tf.train.GradientDescentOptimizer( learning_rate=1e-1 ).minimize(potential)\n",
    "\n",
    "#print([v.xyz for v in verts])\n",
    "allPositions = tf.stack([v.xyz for v in verts])\n",
    "\n",
    "NUM_THREADS = 2\n",
    " \n",
    "with tf.Session(config=tf.ConfigProto( intra_op_parallelism_threads=NUM_THREADS)) as sess:\n",
    "    sess.run(tf.global_variables_initializer())\n",
    "    for i in range(500):\n",
    "        if(i % 10 == 0):\n",
    "            _ , p = sess.run([optimizer, potential] )\n",
    "            print( str(i) + ' ' + str(p) )\n",
    "        else:\n",
    "            sess.run( optimizer )  \n",
    "         \n",
    "    pos = sess.run(allPositions)    \n",
    "    print(pos)\n",
    "    "
   ]
  },
  {
   "cell_type": "code",
   "execution_count": 67,
   "metadata": {},
   "outputs": [
    {
     "data": {
      "application/vnd.jupyter.widget-view+json": {
       "model_id": "4991692379c54b63afba282aff38ba5a",
       "version_major": 2,
       "version_minor": 0
      },
      "text/html": [
       "<p>Failed to display Jupyter Widget of type <code>Renderer</code>.</p>\n",
       "<p>\n",
       "  If you're reading this message in Jupyter Notebook or JupyterLab, it may mean\n",
       "  that the widgets JavaScript is still loading. If this message persists, it\n",
       "  likely means that the widgets JavaScript library is either not installed or\n",
       "  not enabled. See the <a href=\"https://ipywidgets.readthedocs.io/en/stable/user_install.html\">Jupyter\n",
       "  Widgets Documentation</a> for setup instructions.\n",
       "</p>\n",
       "<p>\n",
       "  If you're reading this message in another notebook frontend (for example, a static\n",
       "  rendering on GitHub or <a href=\"https://nbviewer.jupyter.org/\">NBViewer</a>),\n",
       "  it may mean that your frontend doesn't currently support widgets.\n",
       "</p>\n"
      ],
      "text/plain": [
       "Renderer(background_opacity=1.0, camera=PerspectiveCamera(children=[DirectionalLight(color='#555555', intensity=1.5, position=[30.0, 30.0, 30.0], scale=[1.0, 1.0, 1.0], up=[0.0, 1.0, 0.0])], fov=20.0, position=[4.0, 4.0, 4.0], scale=[1.0, 1.0, 1.0], up=[0.0, 1.0, 0.0]), controls=[OrbitControls(controlling=PerspectiveCamera(children=[DirectionalLight(color='#555555', intensity=1.5, position=[30.0, 30.0, 30.0], scale=[1.0, 1.0, 1.0], up=[0.0, 1.0, 0.0])], fov=20.0, position=[4.0, 4.0, 4.0], scale=[1.0, 1.0, 1.0], up=[0.0, 1.0, 0.0]), target=[0.0, 0.0, 0.0])], effect=None, scene=Scene(children=[Mesh(geometry=PlainGeometry(faces=array([[0, 4, 2],\n",
       "       [3, 0, 2],\n",
       "       [3, 0, 4],\n",
       "       [1, 4, 2],\n",
       "       [1, 3, 2],\n",
       "       [1, 3, 4]], dtype=uint32), vertices=array([[ 0.47222146, -0.83064699, -0.29501268],\n",
       "       [-0.47227982,  0.83061755,  0.29500201],\n",
       "       [-0.7312479 , -0.18229976, -0.6573    ],\n",
       "       [-0.060554  , -0.36446497,  0.92924619],\n",
       "       [ 0.79187512,  0.54679567, -0.27193439]], dtype=float32)), material=LambertMaterial(color='#aaaaaa', envMap=None, lightMap=None, map=None, specularMap=None, wireframe=True), position=[0.0, 0.0, 0.0], scale=[1.0, 1.0, 1.0], up=[0.0, 1.0, 0.0]), AmbientLight(color='#ffffff', position=[0.0, 0.0, 0.0], scale=[1.0, 1.0, 1.0], up=[0.0, 1.0, 0.0])], position=[0.0, 0.0, 0.0], scale=[1.0, 1.0, 1.0], up=[0.0, 1.0, 0.0]))"
      ]
     },
     "metadata": {},
     "output_type": "display_data"
    }
   ],
   "source": [
    "import matplotlib.pyplot as plt\n",
    "from mpl_toolkits.mplot3d import Axes3D\n",
    "from scipy.spatial import ConvexHull\n",
    "\n",
    " \n",
    "hull = ConvexHull(pos)\n",
    "\n",
    "\n",
    "# https://github.com/jovyan/pythreejs\n",
    "from pythreejs import *\n",
    "import numpy as np\n",
    "from IPython.display import display\n",
    "\n",
    "vertices = pos\n",
    "\n",
    "faces = hull.simplices\n",
    "\n",
    " \n",
    "cubeGeometry = PlainGeometry(vertices=vertices, faces=faces)\n",
    "\n",
    "myobjectCube = Mesh(geometry=cubeGeometry, material = LambertMaterial(color='#aaaaaa'))\n",
    "cCube = PerspectiveCamera(position=[4, 4, 4], fov=20,\n",
    "                      children=[DirectionalLight(color='#555555', position=[30, 30, 30], intensity=1.5)])\n",
    "sceneCube = Scene(children=[myobjectCube, AmbientLight(color='#ffffff')])\n",
    "\n",
    "rendererCube = Renderer(camera=cCube, background='black', background_opacity=1,\n",
    "                        scene = sceneCube, controls=[OrbitControls(controlling=cCube)])\n",
    "\n",
    "myobjectCube.material.wireframe = True\n",
    "\n",
    "display(rendererCube)"
   ]
  },
  {
   "cell_type": "code",
   "execution_count": 68,
   "metadata": {},
   "outputs": [
    {
     "data": {
      "text/plain": [
       "()"
      ]
     },
     "execution_count": 68,
     "metadata": {},
     "output_type": "execute_result"
    }
   ],
   "source": [
    "\n"
   ]
  },
  {
   "cell_type": "markdown",
   "metadata": {},
   "source": [
    "Todo:\n",
    "1. fix face normals, https://github.com/mrdoob/three.js/blob/dev/src/core/Geometry.js computeFaceNormals\n",
    "cubeGeometry.faceNormals\n",
    "\n",
    "2. edge stats bar chart\n",
    "3. variable learning rate and auto termination on converge\n",
    "4. seperate setup from converging loop so can run multiple if doesn't converge"
   ]
  },
  {
   "cell_type": "code",
   "execution_count": null,
   "metadata": {},
   "outputs": [],
   "source": []
  },
  {
   "cell_type": "code",
   "execution_count": null,
   "metadata": {
    "collapsed": true
   },
   "outputs": [],
   "source": []
  }
 ],
 "metadata": {
  "kernelspec": {
   "display_name": "Python3 (Tensorflow)",
   "language": "python",
   "name": "tensorflow-env"
  },
  "language_info": {
   "codemirror_mode": {
    "name": "ipython",
    "version": 3
   },
   "file_extension": ".py",
   "mimetype": "text/x-python",
   "name": "python",
   "nbconvert_exporter": "python",
   "pygments_lexer": "ipython3",
   "version": "3.6.2"
  }
 },
 "nbformat": 4,
 "nbformat_minor": 2
}
